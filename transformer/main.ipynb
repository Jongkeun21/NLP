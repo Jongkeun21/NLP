{
 "cells": [
  {
   "cell_type": "code",
   "execution_count": 2,
   "metadata": {},
   "outputs": [],
   "source": [
    "import tensorflow as tf\n",
    "import model as ml\n",
    "import data\n",
    "import numpy as np\n",
    "import os\n",
    "import sys\n",
    "from configs import DEFINES"
   ]
  },
  {
   "cell_type": "code",
   "execution_count": 3,
   "metadata": {},
   "outputs": [],
   "source": [
    "DATA_OUT_PATH = './data'"
   ]
  },
  {
   "cell_type": "code",
   "execution_count": null,
   "metadata": {},
   "outputs": [],
   "source": [
    "def main(self) :\n",
    "    data_out_path = os.path.join(os.getcwd(), DATA_OUT_PATH)\n",
    "    os.makedirs(data_out_path, exist_ok=True)\n",
    "    \n",
    "    char2idx, idx2char, vocabulary_length = data.load_vocabulary()\n",
    "    train_input, train_label, eval_input, eval_label = data.load_data()\n",
    "    \n",
    "    train_input_enc, train_input_enc_length = data.enc_processing(train_input, char2idx)\n",
    "    train_output_dec, train_output_dec_length = data.dec_out"
   ]
  }
 ],
 "metadata": {
  "kernelspec": {
   "display_name": "Python 3",
   "language": "python",
   "name": "python3"
  },
  "language_info": {
   "codemirror_mode": {
    "name": "ipython",
    "version": 3
   },
   "file_extension": ".py",
   "mimetype": "text/x-python",
   "name": "python",
   "nbconvert_exporter": "python",
   "pygments_lexer": "ipython3",
   "version": "3.7.3"
  }
 },
 "nbformat": 4,
 "nbformat_minor": 2
}
